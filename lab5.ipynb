{
 "cells": [
  {
   "cell_type": "markdown",
   "id": "c1b9699c-34b5-433b-9d2e-2ee53fed41e4",
   "metadata": {},
   "source": [
    "## Random selection of sqrt(n) features"
   ]
  },
  {
   "cell_type": "code",
   "execution_count": null,
   "id": "8a9d6f59-0b0b-41ba-9483-08573be79359",
   "metadata": {},
   "outputs": [
    {
     "ename": "FileNotFoundError",
     "evalue": "[Errno 2] No such file or directory: 'DATA(1).csv'",
     "output_type": "error",
     "traceback": [
      "\u001b[1;31m---------------------------------------------------------------------------\u001b[0m",
      "\u001b[1;31mFileNotFoundError\u001b[0m                         Traceback (most recent call last)",
      "Cell \u001b[1;32mIn[1], line 5\u001b[0m\n\u001b[0;32m      2\u001b[0m \u001b[38;5;28;01mimport\u001b[39;00m \u001b[38;5;21;01mnumpy\u001b[39;00m \u001b[38;5;28;01mas\u001b[39;00m \u001b[38;5;21;01mnp\u001b[39;00m\n\u001b[0;32m      3\u001b[0m \u001b[38;5;28;01mimport\u001b[39;00m \u001b[38;5;21;01mmath\u001b[39;00m\n\u001b[1;32m----> 5\u001b[0m df \u001b[38;5;241m=\u001b[39m \u001b[43mpd\u001b[49m\u001b[38;5;241;43m.\u001b[39;49m\u001b[43mread_csv\u001b[49m\u001b[43m(\u001b[49m\u001b[38;5;124;43m'\u001b[39;49m\u001b[38;5;124;43mDATA(1).csv\u001b[39;49m\u001b[38;5;124;43m'\u001b[39;49m\u001b[43m)\u001b[49m\n\u001b[0;32m      7\u001b[0m \u001b[38;5;28mprint\u001b[39m(math\u001b[38;5;241m.\u001b[39msqrt(\u001b[38;5;28mlen\u001b[39m(df\u001b[38;5;241m.\u001b[39maxes[\u001b[38;5;241m1\u001b[39m])\u001b[38;5;241m-\u001b[39m\u001b[38;5;241m1\u001b[39m))\n\u001b[0;32m      8\u001b[0m df\n",
      "File \u001b[1;32mc:\\Users\\quyen\\AppData\\Local\\Programs\\Python\\Python311\\Lib\\site-packages\\pandas\\util\\_decorators.py:211\u001b[0m, in \u001b[0;36mdeprecate_kwarg.<locals>._deprecate_kwarg.<locals>.wrapper\u001b[1;34m(*args, **kwargs)\u001b[0m\n\u001b[0;32m    209\u001b[0m     \u001b[38;5;28;01melse\u001b[39;00m:\n\u001b[0;32m    210\u001b[0m         kwargs[new_arg_name] \u001b[38;5;241m=\u001b[39m new_arg_value\n\u001b[1;32m--> 211\u001b[0m \u001b[38;5;28;01mreturn\u001b[39;00m \u001b[43mfunc\u001b[49m\u001b[43m(\u001b[49m\u001b[38;5;241;43m*\u001b[39;49m\u001b[43margs\u001b[49m\u001b[43m,\u001b[49m\u001b[43m \u001b[49m\u001b[38;5;241;43m*\u001b[39;49m\u001b[38;5;241;43m*\u001b[39;49m\u001b[43mkwargs\u001b[49m\u001b[43m)\u001b[49m\n",
      "File \u001b[1;32mc:\\Users\\quyen\\AppData\\Local\\Programs\\Python\\Python311\\Lib\\site-packages\\pandas\\util\\_decorators.py:331\u001b[0m, in \u001b[0;36mdeprecate_nonkeyword_arguments.<locals>.decorate.<locals>.wrapper\u001b[1;34m(*args, **kwargs)\u001b[0m\n\u001b[0;32m    325\u001b[0m \u001b[38;5;28;01mif\u001b[39;00m \u001b[38;5;28mlen\u001b[39m(args) \u001b[38;5;241m>\u001b[39m num_allow_args:\n\u001b[0;32m    326\u001b[0m     warnings\u001b[38;5;241m.\u001b[39mwarn(\n\u001b[0;32m    327\u001b[0m         msg\u001b[38;5;241m.\u001b[39mformat(arguments\u001b[38;5;241m=\u001b[39m_format_argument_list(allow_args)),\n\u001b[0;32m    328\u001b[0m         \u001b[38;5;167;01mFutureWarning\u001b[39;00m,\n\u001b[0;32m    329\u001b[0m         stacklevel\u001b[38;5;241m=\u001b[39mfind_stack_level(),\n\u001b[0;32m    330\u001b[0m     )\n\u001b[1;32m--> 331\u001b[0m \u001b[38;5;28;01mreturn\u001b[39;00m \u001b[43mfunc\u001b[49m\u001b[43m(\u001b[49m\u001b[38;5;241;43m*\u001b[39;49m\u001b[43margs\u001b[49m\u001b[43m,\u001b[49m\u001b[43m \u001b[49m\u001b[38;5;241;43m*\u001b[39;49m\u001b[38;5;241;43m*\u001b[39;49m\u001b[43mkwargs\u001b[49m\u001b[43m)\u001b[49m\n",
      "File \u001b[1;32mc:\\Users\\quyen\\AppData\\Local\\Programs\\Python\\Python311\\Lib\\site-packages\\pandas\\io\\parsers\\readers.py:950\u001b[0m, in \u001b[0;36mread_csv\u001b[1;34m(filepath_or_buffer, sep, delimiter, header, names, index_col, usecols, squeeze, prefix, mangle_dupe_cols, dtype, engine, converters, true_values, false_values, skipinitialspace, skiprows, skipfooter, nrows, na_values, keep_default_na, na_filter, verbose, skip_blank_lines, parse_dates, infer_datetime_format, keep_date_col, date_parser, dayfirst, cache_dates, iterator, chunksize, compression, thousands, decimal, lineterminator, quotechar, quoting, doublequote, escapechar, comment, encoding, encoding_errors, dialect, error_bad_lines, warn_bad_lines, on_bad_lines, delim_whitespace, low_memory, memory_map, float_precision, storage_options)\u001b[0m\n\u001b[0;32m    935\u001b[0m kwds_defaults \u001b[38;5;241m=\u001b[39m _refine_defaults_read(\n\u001b[0;32m    936\u001b[0m     dialect,\n\u001b[0;32m    937\u001b[0m     delimiter,\n\u001b[1;32m   (...)\u001b[0m\n\u001b[0;32m    946\u001b[0m     defaults\u001b[38;5;241m=\u001b[39m{\u001b[38;5;124m\"\u001b[39m\u001b[38;5;124mdelimiter\u001b[39m\u001b[38;5;124m\"\u001b[39m: \u001b[38;5;124m\"\u001b[39m\u001b[38;5;124m,\u001b[39m\u001b[38;5;124m\"\u001b[39m},\n\u001b[0;32m    947\u001b[0m )\n\u001b[0;32m    948\u001b[0m kwds\u001b[38;5;241m.\u001b[39mupdate(kwds_defaults)\n\u001b[1;32m--> 950\u001b[0m \u001b[38;5;28;01mreturn\u001b[39;00m \u001b[43m_read\u001b[49m\u001b[43m(\u001b[49m\u001b[43mfilepath_or_buffer\u001b[49m\u001b[43m,\u001b[49m\u001b[43m \u001b[49m\u001b[43mkwds\u001b[49m\u001b[43m)\u001b[49m\n",
      "File \u001b[1;32mc:\\Users\\quyen\\AppData\\Local\\Programs\\Python\\Python311\\Lib\\site-packages\\pandas\\io\\parsers\\readers.py:605\u001b[0m, in \u001b[0;36m_read\u001b[1;34m(filepath_or_buffer, kwds)\u001b[0m\n\u001b[0;32m    602\u001b[0m _validate_names(kwds\u001b[38;5;241m.\u001b[39mget(\u001b[38;5;124m\"\u001b[39m\u001b[38;5;124mnames\u001b[39m\u001b[38;5;124m\"\u001b[39m, \u001b[38;5;28;01mNone\u001b[39;00m))\n\u001b[0;32m    604\u001b[0m \u001b[38;5;66;03m# Create the parser.\u001b[39;00m\n\u001b[1;32m--> 605\u001b[0m parser \u001b[38;5;241m=\u001b[39m \u001b[43mTextFileReader\u001b[49m\u001b[43m(\u001b[49m\u001b[43mfilepath_or_buffer\u001b[49m\u001b[43m,\u001b[49m\u001b[43m \u001b[49m\u001b[38;5;241;43m*\u001b[39;49m\u001b[38;5;241;43m*\u001b[39;49m\u001b[43mkwds\u001b[49m\u001b[43m)\u001b[49m\n\u001b[0;32m    607\u001b[0m \u001b[38;5;28;01mif\u001b[39;00m chunksize \u001b[38;5;129;01mor\u001b[39;00m iterator:\n\u001b[0;32m    608\u001b[0m     \u001b[38;5;28;01mreturn\u001b[39;00m parser\n",
      "File \u001b[1;32mc:\\Users\\quyen\\AppData\\Local\\Programs\\Python\\Python311\\Lib\\site-packages\\pandas\\io\\parsers\\readers.py:1442\u001b[0m, in \u001b[0;36mTextFileReader.__init__\u001b[1;34m(self, f, engine, **kwds)\u001b[0m\n\u001b[0;32m   1439\u001b[0m     \u001b[38;5;28mself\u001b[39m\u001b[38;5;241m.\u001b[39moptions[\u001b[38;5;124m\"\u001b[39m\u001b[38;5;124mhas_index_names\u001b[39m\u001b[38;5;124m\"\u001b[39m] \u001b[38;5;241m=\u001b[39m kwds[\u001b[38;5;124m\"\u001b[39m\u001b[38;5;124mhas_index_names\u001b[39m\u001b[38;5;124m\"\u001b[39m]\n\u001b[0;32m   1441\u001b[0m \u001b[38;5;28mself\u001b[39m\u001b[38;5;241m.\u001b[39mhandles: IOHandles \u001b[38;5;241m|\u001b[39m \u001b[38;5;28;01mNone\u001b[39;00m \u001b[38;5;241m=\u001b[39m \u001b[38;5;28;01mNone\u001b[39;00m\n\u001b[1;32m-> 1442\u001b[0m \u001b[38;5;28mself\u001b[39m\u001b[38;5;241m.\u001b[39m_engine \u001b[38;5;241m=\u001b[39m \u001b[38;5;28;43mself\u001b[39;49m\u001b[38;5;241;43m.\u001b[39;49m\u001b[43m_make_engine\u001b[49m\u001b[43m(\u001b[49m\u001b[43mf\u001b[49m\u001b[43m,\u001b[49m\u001b[43m \u001b[49m\u001b[38;5;28;43mself\u001b[39;49m\u001b[38;5;241;43m.\u001b[39;49m\u001b[43mengine\u001b[49m\u001b[43m)\u001b[49m\n",
      "File \u001b[1;32mc:\\Users\\quyen\\AppData\\Local\\Programs\\Python\\Python311\\Lib\\site-packages\\pandas\\io\\parsers\\readers.py:1735\u001b[0m, in \u001b[0;36mTextFileReader._make_engine\u001b[1;34m(self, f, engine)\u001b[0m\n\u001b[0;32m   1733\u001b[0m     \u001b[38;5;28;01mif\u001b[39;00m \u001b[38;5;124m\"\u001b[39m\u001b[38;5;124mb\u001b[39m\u001b[38;5;124m\"\u001b[39m \u001b[38;5;129;01mnot\u001b[39;00m \u001b[38;5;129;01min\u001b[39;00m mode:\n\u001b[0;32m   1734\u001b[0m         mode \u001b[38;5;241m+\u001b[39m\u001b[38;5;241m=\u001b[39m \u001b[38;5;124m\"\u001b[39m\u001b[38;5;124mb\u001b[39m\u001b[38;5;124m\"\u001b[39m\n\u001b[1;32m-> 1735\u001b[0m \u001b[38;5;28mself\u001b[39m\u001b[38;5;241m.\u001b[39mhandles \u001b[38;5;241m=\u001b[39m \u001b[43mget_handle\u001b[49m\u001b[43m(\u001b[49m\n\u001b[0;32m   1736\u001b[0m \u001b[43m    \u001b[49m\u001b[43mf\u001b[49m\u001b[43m,\u001b[49m\n\u001b[0;32m   1737\u001b[0m \u001b[43m    \u001b[49m\u001b[43mmode\u001b[49m\u001b[43m,\u001b[49m\n\u001b[0;32m   1738\u001b[0m \u001b[43m    \u001b[49m\u001b[43mencoding\u001b[49m\u001b[38;5;241;43m=\u001b[39;49m\u001b[38;5;28;43mself\u001b[39;49m\u001b[38;5;241;43m.\u001b[39;49m\u001b[43moptions\u001b[49m\u001b[38;5;241;43m.\u001b[39;49m\u001b[43mget\u001b[49m\u001b[43m(\u001b[49m\u001b[38;5;124;43m\"\u001b[39;49m\u001b[38;5;124;43mencoding\u001b[39;49m\u001b[38;5;124;43m\"\u001b[39;49m\u001b[43m,\u001b[49m\u001b[43m \u001b[49m\u001b[38;5;28;43;01mNone\u001b[39;49;00m\u001b[43m)\u001b[49m\u001b[43m,\u001b[49m\n\u001b[0;32m   1739\u001b[0m \u001b[43m    \u001b[49m\u001b[43mcompression\u001b[49m\u001b[38;5;241;43m=\u001b[39;49m\u001b[38;5;28;43mself\u001b[39;49m\u001b[38;5;241;43m.\u001b[39;49m\u001b[43moptions\u001b[49m\u001b[38;5;241;43m.\u001b[39;49m\u001b[43mget\u001b[49m\u001b[43m(\u001b[49m\u001b[38;5;124;43m\"\u001b[39;49m\u001b[38;5;124;43mcompression\u001b[39;49m\u001b[38;5;124;43m\"\u001b[39;49m\u001b[43m,\u001b[49m\u001b[43m \u001b[49m\u001b[38;5;28;43;01mNone\u001b[39;49;00m\u001b[43m)\u001b[49m\u001b[43m,\u001b[49m\n\u001b[0;32m   1740\u001b[0m \u001b[43m    \u001b[49m\u001b[43mmemory_map\u001b[49m\u001b[38;5;241;43m=\u001b[39;49m\u001b[38;5;28;43mself\u001b[39;49m\u001b[38;5;241;43m.\u001b[39;49m\u001b[43moptions\u001b[49m\u001b[38;5;241;43m.\u001b[39;49m\u001b[43mget\u001b[49m\u001b[43m(\u001b[49m\u001b[38;5;124;43m\"\u001b[39;49m\u001b[38;5;124;43mmemory_map\u001b[39;49m\u001b[38;5;124;43m\"\u001b[39;49m\u001b[43m,\u001b[49m\u001b[43m \u001b[49m\u001b[38;5;28;43;01mFalse\u001b[39;49;00m\u001b[43m)\u001b[49m\u001b[43m,\u001b[49m\n\u001b[0;32m   1741\u001b[0m \u001b[43m    \u001b[49m\u001b[43mis_text\u001b[49m\u001b[38;5;241;43m=\u001b[39;49m\u001b[43mis_text\u001b[49m\u001b[43m,\u001b[49m\n\u001b[0;32m   1742\u001b[0m \u001b[43m    \u001b[49m\u001b[43merrors\u001b[49m\u001b[38;5;241;43m=\u001b[39;49m\u001b[38;5;28;43mself\u001b[39;49m\u001b[38;5;241;43m.\u001b[39;49m\u001b[43moptions\u001b[49m\u001b[38;5;241;43m.\u001b[39;49m\u001b[43mget\u001b[49m\u001b[43m(\u001b[49m\u001b[38;5;124;43m\"\u001b[39;49m\u001b[38;5;124;43mencoding_errors\u001b[39;49m\u001b[38;5;124;43m\"\u001b[39;49m\u001b[43m,\u001b[49m\u001b[43m \u001b[49m\u001b[38;5;124;43m\"\u001b[39;49m\u001b[38;5;124;43mstrict\u001b[39;49m\u001b[38;5;124;43m\"\u001b[39;49m\u001b[43m)\u001b[49m\u001b[43m,\u001b[49m\n\u001b[0;32m   1743\u001b[0m \u001b[43m    \u001b[49m\u001b[43mstorage_options\u001b[49m\u001b[38;5;241;43m=\u001b[39;49m\u001b[38;5;28;43mself\u001b[39;49m\u001b[38;5;241;43m.\u001b[39;49m\u001b[43moptions\u001b[49m\u001b[38;5;241;43m.\u001b[39;49m\u001b[43mget\u001b[49m\u001b[43m(\u001b[49m\u001b[38;5;124;43m\"\u001b[39;49m\u001b[38;5;124;43mstorage_options\u001b[39;49m\u001b[38;5;124;43m\"\u001b[39;49m\u001b[43m,\u001b[49m\u001b[43m \u001b[49m\u001b[38;5;28;43;01mNone\u001b[39;49;00m\u001b[43m)\u001b[49m\u001b[43m,\u001b[49m\n\u001b[0;32m   1744\u001b[0m \u001b[43m\u001b[49m\u001b[43m)\u001b[49m\n\u001b[0;32m   1745\u001b[0m \u001b[38;5;28;01massert\u001b[39;00m \u001b[38;5;28mself\u001b[39m\u001b[38;5;241m.\u001b[39mhandles \u001b[38;5;129;01mis\u001b[39;00m \u001b[38;5;129;01mnot\u001b[39;00m \u001b[38;5;28;01mNone\u001b[39;00m\n\u001b[0;32m   1746\u001b[0m f \u001b[38;5;241m=\u001b[39m \u001b[38;5;28mself\u001b[39m\u001b[38;5;241m.\u001b[39mhandles\u001b[38;5;241m.\u001b[39mhandle\n",
      "File \u001b[1;32mc:\\Users\\quyen\\AppData\\Local\\Programs\\Python\\Python311\\Lib\\site-packages\\pandas\\io\\common.py:856\u001b[0m, in \u001b[0;36mget_handle\u001b[1;34m(path_or_buf, mode, encoding, compression, memory_map, is_text, errors, storage_options)\u001b[0m\n\u001b[0;32m    851\u001b[0m \u001b[38;5;28;01melif\u001b[39;00m \u001b[38;5;28misinstance\u001b[39m(handle, \u001b[38;5;28mstr\u001b[39m):\n\u001b[0;32m    852\u001b[0m     \u001b[38;5;66;03m# Check whether the filename is to be opened in binary mode.\u001b[39;00m\n\u001b[0;32m    853\u001b[0m     \u001b[38;5;66;03m# Binary mode does not support 'encoding' and 'newline'.\u001b[39;00m\n\u001b[0;32m    854\u001b[0m     \u001b[38;5;28;01mif\u001b[39;00m ioargs\u001b[38;5;241m.\u001b[39mencoding \u001b[38;5;129;01mand\u001b[39;00m \u001b[38;5;124m\"\u001b[39m\u001b[38;5;124mb\u001b[39m\u001b[38;5;124m\"\u001b[39m \u001b[38;5;129;01mnot\u001b[39;00m \u001b[38;5;129;01min\u001b[39;00m ioargs\u001b[38;5;241m.\u001b[39mmode:\n\u001b[0;32m    855\u001b[0m         \u001b[38;5;66;03m# Encoding\u001b[39;00m\n\u001b[1;32m--> 856\u001b[0m         handle \u001b[38;5;241m=\u001b[39m \u001b[38;5;28;43mopen\u001b[39;49m\u001b[43m(\u001b[49m\n\u001b[0;32m    857\u001b[0m \u001b[43m            \u001b[49m\u001b[43mhandle\u001b[49m\u001b[43m,\u001b[49m\n\u001b[0;32m    858\u001b[0m \u001b[43m            \u001b[49m\u001b[43mioargs\u001b[49m\u001b[38;5;241;43m.\u001b[39;49m\u001b[43mmode\u001b[49m\u001b[43m,\u001b[49m\n\u001b[0;32m    859\u001b[0m \u001b[43m            \u001b[49m\u001b[43mencoding\u001b[49m\u001b[38;5;241;43m=\u001b[39;49m\u001b[43mioargs\u001b[49m\u001b[38;5;241;43m.\u001b[39;49m\u001b[43mencoding\u001b[49m\u001b[43m,\u001b[49m\n\u001b[0;32m    860\u001b[0m \u001b[43m            \u001b[49m\u001b[43merrors\u001b[49m\u001b[38;5;241;43m=\u001b[39;49m\u001b[43merrors\u001b[49m\u001b[43m,\u001b[49m\n\u001b[0;32m    861\u001b[0m \u001b[43m            \u001b[49m\u001b[43mnewline\u001b[49m\u001b[38;5;241;43m=\u001b[39;49m\u001b[38;5;124;43m\"\u001b[39;49m\u001b[38;5;124;43m\"\u001b[39;49m\u001b[43m,\u001b[49m\n\u001b[0;32m    862\u001b[0m \u001b[43m        \u001b[49m\u001b[43m)\u001b[49m\n\u001b[0;32m    863\u001b[0m     \u001b[38;5;28;01melse\u001b[39;00m:\n\u001b[0;32m    864\u001b[0m         \u001b[38;5;66;03m# Binary mode\u001b[39;00m\n\u001b[0;32m    865\u001b[0m         handle \u001b[38;5;241m=\u001b[39m \u001b[38;5;28mopen\u001b[39m(handle, ioargs\u001b[38;5;241m.\u001b[39mmode)\n",
      "\u001b[1;31mFileNotFoundError\u001b[0m: [Errno 2] No such file or directory: 'DATA(1).csv'"
     ]
    }
   ],
   "source": [
    "import pandas as pd\n",
    "import numpy as np\n",
    "import math\n",
    "\n",
    "df = pd.read_csv('DATA(1).csv')\n",
    "\n",
    "print(math.sqrt(len(df.axes[1])-1))\n",
    "df"
   ]
  },
  {
   "cell_type": "markdown",
   "id": "9e72a84f-8118-46da-9f0b-8369f70dbc6a",
   "metadata": {},
   "source": [
    "Select **6 random features**"
   ]
  },
  {
   "cell_type": "code",
   "execution_count": 61,
   "id": "3536ffcc-513c-47e4-a458-9685effefcfd",
   "metadata": {},
   "outputs": [],
   "source": [
    "rng = [ 'Weekly sleep hours','Career aspirations',\n",
    "        'Weekly study hours','Student Age',\n",
    "       \"Father's education\", 'Parents marital status']"
   ]
  },
  {
   "cell_type": "code",
   "execution_count": null,
   "id": "4a9c95f8",
   "metadata": {},
   "outputs": [],
   "source": []
  },
  {
   "cell_type": "markdown",
   "id": "ba4e8f66-f7b8-4a36-9fc2-e21287d0160f",
   "metadata": {},
   "source": [
    "## Построение дерева решений методом C4.5"
   ]
  },
  {
   "cell_type": "markdown",
   "id": "ce193fb5-0836-4f30-becc-b2fe0fbd6a80",
   "metadata": {},
   "source": [
    "1. Определим энтропию на всём множестве $T$. Энтропия определяет насколько беспорядочен набор данных. В наборе $T$ есть $k$ элементов - классы $C_j$:\n",
    "\n",
    "$$\n",
    "\\text{Info}(T) = -\\sum_{j=1}^k \\frac{\\text{freq}(C_j, T)}{|T|} \\cdot \\log_2 \\left(\\frac{\\text{freq}(C_j, T)}{|T|}\\right)\n",
    "$$"
   ]
  },
  {
   "cell_type": "code",
   "execution_count": 62,
   "id": "c7604213-4f70-4719-8554-1bccfb8e1433",
   "metadata": {},
   "outputs": [
    {
     "data": {
      "text/plain": [
       "2.861968363284211"
      ]
     },
     "execution_count": 62,
     "metadata": {},
     "output_type": "execute_result"
    }
   ],
   "source": [
    "import numpy as np\n",
    "import pandas as pd \n",
    "import math\n",
    "from collections import Counter \n",
    "\n",
    "def entropy(T):\n",
    "    _, cnts = np.unique(T, return_counts=True)\n",
    "    return -sum((cnt / len(T)) * math.log2(cnt / len(T)) for cnt in cnts)\n",
    "\n",
    "entropy(df[\"GRADE\"])"
   ]
  },
  {
   "cell_type": "markdown",
   "id": "51ace4bb-392d-49d3-9274-18afe16ae3e7",
   "metadata": {},
   "source": [
    "2. После разбиения множества $T$ по атрибуту X, образуются подмножества $T_1, T_2, ..., T_n$. Можем посчитать условную энтропию - разброс полученного подмножества относительно всего множества $T$:\n",
    "\n",
    "$$\n",
    "\\text{Info}_X (T) = \\sum_{i=1}^n \\frac{|T_i|}{|T|} \\cdot Info(T_i)\n",
    "$$"
   ]
  },
  {
   "cell_type": "code",
   "execution_count": 63,
   "id": "a9ee89a0-02ad-4fb3-9438-a03690a933c3",
   "metadata": {},
   "outputs": [],
   "source": [
    "def conditional_entropy(T, attr): \n",
    "    total = len(T) \n",
    "    acc = 0\n",
    "    for val in T[attr].unique():\n",
    "        subset = T[T[attr] == val]\n",
    "        acc += (len(subset) / len(T)) * entropy(subset['GRADE'])\n",
    "        \n",
    "    return acc"
   ]
  },
  {
   "cell_type": "markdown",
   "id": "46440056-1ca2-4a8d-9b5e-f187784ce2ce",
   "metadata": {},
   "source": [
    "3. Чтобы корректно вычислить прирост информации, следует также его нормировать, учтя уникальность значений атрибутов и их влияние на структуру дерева. Для этого используется критерий $Split \\,\\, information$:\n",
    "\n",
    "$$\n",
    "\\text{split}_{\\text{info}} (X) = -\\sum_{i=1}^n \\frac{|T_i|}{|T|} \\cdot \\log_2 \\left(\\frac{|T_i|}{|T|}\\right)\n",
    "$$"
   ]
  },
  {
   "cell_type": "code",
   "execution_count": 64,
   "id": "f14041ba-b07f-4ebe-87f9-3534c946dfd7",
   "metadata": {},
   "outputs": [],
   "source": [
    "def split(T, attr): \n",
    "    total = len(T) \n",
    "    acc = 0\n",
    "    for val in T[attr].unique():\n",
    "        cnt = len(T[T[attr] == val])\n",
    "        weight = cnt / total\n",
    "        if weight > 0:\n",
    "            acc -= weight * math.log2(weight)\n",
    "        \n",
    "    return acc"
   ]
  },
  {
   "cell_type": "markdown",
   "id": "fa6282d1-ad93-4bae-bff7-841180ff5743",
   "metadata": {},
   "source": [
    "4. Итак, теперь можно подсчитать прирост информации, нормированный критерием Split information. На его основе будет сделан выбор наилучшего атрибута на каждом уровне дерева:\n",
    "\n",
    "$$\n",
    "\\text{Gain\\_ratio} (X) = \\frac{\\text{Info} (T) - \\text{Info}_X (T)}{\\text{split}_\\text{info} (X)}\n",
    "$$"
   ]
  },
  {
   "cell_type": "code",
   "execution_count": 65,
   "id": "b0408f5f-5aa8-465e-90aa-52111fdb146c",
   "metadata": {},
   "outputs": [],
   "source": [
    "def gain(T, attr):\n",
    "    split_info_value = split(T, attr)\n",
    "    if split_info_value == 0:\n",
    "        return 0\n",
    "    return (entropy(T['GRADE']) - conditional_entropy(T, attr)) / split_info_value"
   ]
  },
  {
   "cell_type": "markdown",
   "id": "1c196d11-6ffa-4e42-bfc7-8f28c3cf3fa3",
   "metadata": {},
   "source": [
    "5. Построение дерева"
   ]
  },
  {
   "cell_type": "code",
   "execution_count": 66,
   "id": "f23e2391-06ec-4a4f-a390-811c701b83fa",
   "metadata": {},
   "outputs": [
    {
     "name": "stdout",
     "output_type": "stream",
     "text": [
      "{'1': {2: {'20': {1: {'15': {2: {'25': {3: {'10': {1: {'12': {2: 1, 3: 1, 1: 3, 4: 1, 5: 6}}, 3: {'12': {4: 5, 3: 1}}, 2: {'12': {4: 7, 3: 2}}}}, 2: {'10': {2: {'12': {2: 0, 4: 1, 1: 5, 3: 1}}, 4: 1, 1: {'12': {1: 1, 2: 1, 3: 5}}}}, 1: {'12': {3: 2, 2: 2, 1: {'10': {1: 0}}}}}}, 4: {'10': {2: {'12': {3: 5, 4: 3}}, 1: {'12': {1: 2, 4: 4}}, 3: 6}}, 3: {'10': {2: 1, 1: 4, 3: {'25': {3: 1, 2: 4}}}}, 5: 3, 1: {'10': {1: {'25': {3: 7, 2: 6}}, 2: 2}}}}, 2: {'12': {4: {'25': {3: 2, 2: 1}}, 2: {'25': {2: 2, 3: 1}}, 3: 6, 1: {'10': {3: 2, 1: {'25': {2: 2, 3: 1}}}}}}}}, 1: {'12': {2: {'25': {3: {'10': {2: {'20': {1: {'15': {2: 1, 4: 1}}, 2: 3}}, 1: {'20': {1: {'15': {2: 1}}, 2: {'15': {2: 1}}}}, 3: {'20': {1: 7, 2: 1}}}}, 2: {'10': {1: {'20': {1: {'15': {2: 1}}}}, 2: 7}}}}, 3: {'15': {2: {'10': {3: {'20': {2: 5, 1: {'25': {2: 6, 3: 6}}}}, 2: {'25': {3: {'20': {1: 1, 2: 1}}, 2: 7}}, 1: {'25': {2: {'20': {1: 2}}, 3: {'20': {1: 1}}}}}}, 4: {'10': {3: {'20': {1: 2, 2: 3}}, 1: 7}}, 3: {'10': {2: {'20': {2: {'25': {3: 2}}}}, 3: 0}}, 5: 0}}, 4: {'25': {2: {'10': {3: 2, 1: 2, 2: 3}}, 3: {'20': {1: {'10': {1: {'15': {3: 6, 2: 1}}, 3: 5, 2: 7}}, 2: 0}}}}, 5: {'20': {1: {'10': {3: {'25': {3: 0, 2: 7}}, 1: 0}}, 2: 7}}, 1: {'25': {3: {'10': {1: {'20': {1: {'15': {2: 1}}, 2: 3}}, 2: {'15': {4: 7, 2: 5}}, 3: {'15': {2: 2, 4: 0}}}}, 2: {'20': {1: 6, 2: 1}}}}, 6: 3}}, 3: {'15': {4: 2, 2: {'12': {4: 1, 2: {'10': {2: {'20': {1: {'25': {3: 3}}}}}}, 1: 3, 3: 3}}, 1: 1}}}}\n"
     ]
    }
   ],
   "source": [
    "def most_common_class(T):\n",
    "    return T['GRADE'].mode()[0]\n",
    "\n",
    "def build_tree(T, attrs):\n",
    "    if len(T['GRADE'].unique()) == 1:\n",
    "        return T['GRADE'].iloc[0]\n",
    "    \n",
    "    if len(attrs) == 0:\n",
    "        return most_common_class(T)\n",
    "\n",
    "    gains = {attr: gain(T, attr) for attr in attrs}\n",
    "    best_attribute = max(gains, key=gains.get)\n",
    "\n",
    "    tree = {best_attribute: {}}\n",
    "\n",
    "    for value in T[best_attribute].unique():\n",
    "        subset = T[T[best_attribute] == value].drop(columns=[best_attribute])\n",
    "        subtree = build_tree(subset, [attr for attr in attrs if attr != best_attribute])\n",
    "        tree[best_attribute][value] = subtree\n",
    "\n",
    "    return tree\n",
    "\n",
    "rng_nums = ['10', '20', '1', '25', '12', '15']\n",
    "decision_tree = build_tree(df, rng_nums)\n",
    "print(decision_tree)\n"
   ]
  },
  {
   "cell_type": "code",
   "execution_count": 71,
   "id": "4df80b6f-3be4-442e-80ad-af8498723042",
   "metadata": {},
   "outputs": [],
   "source": [
    "def predict(tree, sample, default=\"Unknown\"):\n",
    "    if not isinstance(tree, dict):\n",
    "        return tree\n",
    "\n",
    "    attribute = next(iter(tree))\n",
    "    value = sample.get(attribute)\n",
    "    \n",
    "    if value not in tree[attribute]:\n",
    "        return default  # value not found\n",
    "\n",
    "    subtree = tree[attribute][value]\n",
    "    return predict(subtree, sample, default)"
   ]
  },
  {
   "cell_type": "code",
   "execution_count": 72,
   "id": "7a632b6a-b55f-4455-8036-ac765dd58ef6",
   "metadata": {},
   "outputs": [
    {
     "name": "stdout",
     "output_type": "stream",
     "text": [
      "     STUDENT ID  Predicted GRADE\n",
      "0      STUDENT1                1\n",
      "1      STUDENT2                1\n",
      "2      STUDENT3                0\n",
      "3      STUDENT4                1\n",
      "4      STUDENT5                1\n",
      "..          ...              ...\n",
      "140  STUDENT141                0\n",
      "141  STUDENT142                5\n",
      "142  STUDENT143                1\n",
      "143  STUDENT144                4\n",
      "144  STUDENT145                1\n",
      "\n",
      "[145 rows x 2 columns]\n"
     ]
    }
   ],
   "source": [
    "df['Predicted GRADE'] = predict_dataframe(decision_tree, df)\n",
    "print(df[['STUDENT ID', 'Predicted GRADE']])"
   ]
  },
  {
   "cell_type": "markdown",
   "id": "9ec65633-8ba0-4b08-8027-ab617819064d",
   "metadata": {},
   "source": [
    "## Оценка реализованного алгоритма\n",
    "\n",
    "### Достоверность (правильность)\n",
    "\n",
    "$\\text{accuracy}=\\frac{\\text{TP}+\\text{TN}}{N}$\n",
    "\n",
    "### Точность (способность отличать этот класс от других)\n",
    "\n",
    "$\\text{precision}=\\frac{\\text{TP}}{\\text{TP}+\\text{FP}}$\n",
    "\n",
    "### Полнота (способность обнаруживать данный класс, sensitivity)\n",
    "\n",
    "$\\text{recall}=\\frac{\\text{TP}}{\\text{TP}+\\text{FN}}$"
   ]
  },
  {
   "cell_type": "code",
   "execution_count": 78,
   "id": "d87ac5db-63fc-4418-990b-ec8bb3122fa0",
   "metadata": {},
   "outputs": [
    {
     "name": "stdout",
     "output_type": "stream",
     "text": [
      "Accuracy: 0.84828\n",
      "Precision: 0.94872\n",
      "Recall: 0.64912\n"
     ]
    }
   ],
   "source": [
    "import numpy as np\n",
    "\n",
    "df['Actual_Binary'] = df['GRADE'].apply(lambda x: 1 if x > 3 else 0)\n",
    "df['Predicted_Binary'] = df['Predicted GRADE'].apply(lambda x: 1 if x > 3 else 0)\n",
    "\n",
    "actual = df['Actual_Binary'].values\n",
    "predicted = df['Predicted_Binary'].values\n",
    "\n",
    "accuracy = np.mean(actual == predicted)\n",
    "\n",
    "true_positive = np.sum((predicted == 1) & (actual == 1))\n",
    "false_positive = np.sum((predicted == 1) & (actual == 0))\n",
    "false_negative = np.sum((predicted == 0) & (actual == 1))\n",
    "\n",
    "precision = true_positive / (true_positive + false_positive) if (true_positive + false_positive) > 0 else 0\n",
    "recall = true_positive / (true_positive + false_negative) if (true_positive + false_negative) > 0 else 0\n",
    "\n",
    "print(f\"Accuracy: {accuracy:.5f}\")\n",
    "print(f\"Precision: {precision:.5f}\")\n",
    "print(f\"Recall: {recall:.5f}\")"
   ]
  },
  {
   "cell_type": "code",
   "execution_count": 155,
   "id": "730ca464-bef3-4bcf-af6d-df9be6bef637",
   "metadata": {},
   "outputs": [],
   "source": [
    "def build_tree(T, attrs):\n",
    "    positive_class = T['GRADE'].apply(lambda x: 1 if x > 3 else 0)\n",
    "    class_counts = positive_class.value_counts()\n",
    "    total = len(positive_class)\n",
    "    probabilities = {\n",
    "        0: class_counts.get(0, 0) / total,\n",
    "        1: class_counts.get(1, 0) / total\n",
    "    }\n",
    "    \n",
    "    if len(class_counts) == 1 or len(attrs) == 0:\n",
    "        return {'probabilities': probabilities}\n",
    "    \n",
    "    gains = {attr: gain(T, attr) for attr in attrs}\n",
    "    best_attribute = max(gains, key=gains.get)\n",
    "    \n",
    "    tree = {\n",
    "        'probabilities': probabilities,\n",
    "        'feature': best_attribute,\n",
    "        'subtrees': {}\n",
    "    }\n",
    "    \n",
    "    for value in T[best_attribute].unique():\n",
    "        subset = T[T[best_attribute] == value]\n",
    "        remaining_attrs = [attr for attr in attrs if attr != best_attribute]\n",
    "        subtree = build_tree(subset, remaining_attrs)\n",
    "        tree['subtrees'][value] = subtree\n",
    "    \n",
    "    return tree"
   ]
  },
  {
   "cell_type": "code",
   "execution_count": 159,
   "id": "d97372c3-9a4f-4eb1-8443-f13396056033",
   "metadata": {},
   "outputs": [],
   "source": [
    "def predict(tree, sample, default_probabilities=None):\n",
    "    if 'probabilities' in tree:\n",
    "        probabilities = tree['probabilities']\n",
    "    else:\n",
    "        probabilities = default_probabilities or {0: 0.5, 1: 0.5}\n",
    "    \n",
    "    if 'feature' not in tree or tree['feature'] not in sample:\n",
    "        return probabilities[1]  # Вероятность положительного класса\n",
    "    \n",
    "    feature_value = sample[tree['feature']]\n",
    "    subtrees = tree['subtrees']\n",
    "    \n",
    "    if feature_value in subtrees:\n",
    "        subtree = subtrees[feature_value]\n",
    "        return predict(subtree, sample, probabilities)\n",
    "    else:\n",
    "        # Если значение не найдено, используем вероятности текущего узла\n",
    "        return probabilities[1]"
   ]
  },
  {
   "cell_type": "code",
   "execution_count": 161,
   "id": "a0c1f230-231a-4a18-9c81-66dc2bd40f3f",
   "metadata": {},
   "outputs": [
    {
     "name": "stdout",
     "output_type": "stream",
     "text": [
      "0      0.500000\n",
      "1      0.400000\n",
      "2      0.333333\n",
      "3      0.333333\n",
      "4      0.000000\n",
      "         ...   \n",
      "140    0.333333\n",
      "141    1.000000\n",
      "142    0.000000\n",
      "143    1.000000\n",
      "144    0.333333\n",
      "Name: Predicted_Probability, Length: 145, dtype: float64\n"
     ]
    }
   ],
   "source": [
    "def predict_dataframe(tree, df):\n",
    "    predictions = []\n",
    "    for _, row in df.iterrows():\n",
    "        sample = row.to_dict()\n",
    "        prob = predict(tree, sample)\n",
    "        predictions.append(prob)\n",
    "    return predictions\n",
    "\n",
    "# Получаем предсказанные вероятности\n",
    "# Построение дерева\n",
    "rng_nums = ['10', '20', '1', '25', '12', '15']\n",
    "decision_tree = build_tree(df, rng_nums)\n",
    "\n",
    "# Предсказание вероятностей\n",
    "df['Predicted_Probability'] = predict_dataframe(decision_tree, df)\n",
    "\n",
    "# Проверяем результаты\n",
    "print(df['Predicted_Probability'])"
   ]
  },
  {
   "cell_type": "code",
   "execution_count": 167,
   "id": "3f685e11-cdcf-4a1f-ba9b-87c20b4a4116",
   "metadata": {},
   "outputs": [],
   "source": [
    "import numpy as np\n",
    "\n",
    "df['Actual_Binary'] = df['GRADE'].apply(lambda x: 1 if x > 3 else 0)\n",
    "\n",
    "y_true = df['Actual_Binary'].values\n",
    "y_scores = df['Predicted_Probability'].values\n",
    "\n",
    "y_scores = np.clip(y_scores, 0, 1)"
   ]
  },
  {
   "cell_type": "code",
   "execution_count": 166,
   "id": "1afaf7bf-9dc4-49b2-833b-6bddbbbcc1b1",
   "metadata": {},
   "outputs": [
    {
     "name": "stdout",
     "output_type": "stream",
     "text": [
      "AUC-ROC: 0.95\n"
     ]
    }
   ],
   "source": [
    "thresholds = np.unique(y_scores)\n",
    "tprs = []\n",
    "fprs = []\n",
    "\n",
    "for thresh in thresholds:\n",
    "    y_pred = (y_scores >= thresh).astype(int)\n",
    "    tp = np.sum((y_pred == 1) & (y_true == 1))\n",
    "    fp = np.sum((y_pred == 1) & (y_true == 0))\n",
    "    fn = np.sum((y_pred == 0) & (y_true == 1))\n",
    "    tn = np.sum((y_pred == 0) & (y_true == 0))\n",
    "    \n",
    "    tpr = tp / (tp + fn) if (tp + fn) > 0 else 0\n",
    "    fpr = fp / (fp + tn) if (fp + tn) > 0 else 0\n",
    "    \n",
    "    tprs.append(tpr)\n",
    "    fprs.append(fpr)\n",
    "\n",
    "sorted_indices = np.argsort(fprs)\n",
    "fprs = np.array(fprs)[sorted_indices]\n",
    "tprs = np.array(tprs)[sorted_indices]\n",
    "\n",
    "auc_roc = np.trapz(tprs, fprs)\n",
    "print(f\"AUC-ROC: {auc_roc:.2f}\")"
   ]
  },
  {
   "cell_type": "code",
   "execution_count": 168,
   "id": "8323ec50-307b-4be4-8386-7369fbb22d69",
   "metadata": {},
   "outputs": [
    {
     "name": "stdout",
     "output_type": "stream",
     "text": [
      "AUC-PR: 0.93\n"
     ]
    }
   ],
   "source": [
    "precisions = []\n",
    "recalls = []\n",
    "\n",
    "for thresh in thresholds:\n",
    "    y_pred = (y_scores >= thresh).astype(int)\n",
    "    tp = np.sum((y_pred == 1) & (y_true == 1))\n",
    "    fp = np.sum((y_pred == 1) & (y_true == 0))\n",
    "    fn = np.sum((y_pred == 0) & (y_true == 1))\n",
    "    \n",
    "    precision = tp / (tp + fp) if (tp + fp) > 0 else 1\n",
    "    recall = tp / (tp + fn) if (tp + fn) > 0 else 0\n",
    "    \n",
    "    precisions.append(precision)\n",
    "    recalls.append(recall)\n",
    "\n",
    "precisions.append(1)\n",
    "recalls.append(0)\n",
    "\n",
    "recalls, precisions = zip(*sorted(zip(recalls, precisions)))\n",
    "\n",
    "auc_pr = np.trapz(precisions, recalls)\n",
    "print(f\"AUC-PR: {auc_pr:.2f}\")"
   ]
  },
  {
   "cell_type": "code",
   "execution_count": 170,
   "id": "068472ca-b66a-4a31-b698-d820c61b4cd1",
   "metadata": {},
   "outputs": [
    {
     "data": {
      "image/png": "[encoded data removed]",
      "text/plain": [
       "<Figure size 640x480 with 1 Axes>"
      ]
     },
     "metadata": {},
     "output_type": "display_data"
    },
    {
     "data": {
      "image/png": "[encoded data removed]",
      "text/plain": [
       "<Figure size 640x480 with 1 Axes>"
      ]
     },
     "metadata": {},
     "output_type": "display_data"
    }
   ],
   "source": [
    "import matplotlib.pyplot as plt\n",
    "\n",
    "# ROC-кривая\n",
    "plt.figure()\n",
    "plt.plot(fprs, tprs, marker='.', label='ROC curve (AUC = {:.2f})'.format(auc_roc))\n",
    "plt.plot([0, 1], [0, 1], linestyle='--', label='Random classifier')\n",
    "plt.xlabel('False Positive Rate')\n",
    "plt.ylabel('True Positive Rate')\n",
    "plt.title('ROC Curve')\n",
    "plt.legend()\n",
    "plt.show()\n",
    "\n",
    "# PR-кривая\n",
    "plt.figure()\n",
    "plt.plot(recalls, precisions, marker='.', label='PR curve (AUC = {:.2f})'.format(auc_pr))\n",
    "plt.plot([1, 0], [0, 1], linestyle='--', label='Random classifier')\n",
    "plt.xlabel('Recall')\n",
    "plt.ylabel('Precision')\n",
    "plt.title('Precision-Recall Curve')\n",
    "plt.legend()\n",
    "plt.show()"
   ]
  },
  {
   "cell_type": "code",
   "execution_count": null,
   "id": "1d294252-bf3f-4c3a-8e76-96a7e65ac9cf",
   "metadata": {},
   "outputs": [],
   "source": []
  },
  {
   "cell_type": "code",
   "execution_count": null,
   "id": "0ce0009e-80c6-4786-85f7-a75b9057e136",
   "metadata": {},
   "outputs": [],
   "source": []
  },
  {
   "cell_type": "code",
   "execution_count": null,
   "id": "0d51bb8d-a7ad-436e-bf79-ce0e5bd0afb1",
   "metadata": {},
   "outputs": [],
   "source": []
  }
 ],
 "metadata": {
  "kernelspec": {
   "display_name": "Python 3",
   "language": "python",
   "name": "python3"
  },
  "language_info": {
   "codemirror_mode": {
    "name": "ipython",
    "version": 3
   },
   "file_extension": ".py",
   "mimetype": "text/x-python",
   "name": "python",
   "nbconvert_exporter": "python",
   "pygments_lexer": "ipython3",
   "version": "3.11.2"
  }
 },
 "nbformat": 4,
 "nbformat_minor": 5
}
